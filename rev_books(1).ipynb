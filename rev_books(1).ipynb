{
  "nbformat": 4,
  "nbformat_minor": 0,
  "metadata": {
    "colab": {
      "provenance": []
    },
    "kernelspec": {
      "name": "python3",
      "display_name": "Python 3"
    },
    "language_info": {
      "name": "python"
    }
  },
  "cells": [
    {
      "cell_type": "markdown",
      "source": [
        "The goal of this notebook is to pull in spreadsheets from reverie books and provide information on turns and provide insight on what is selling and what isnt.\n",
        "\n",
        "Cells can be run individually by clicking into them and hitting shift + enter.\n",
        "\n"
      ],
      "metadata": {
        "id": "yi9L_6p854nt"
      }
    },
    {
      "cell_type": "code",
      "execution_count": null,
      "metadata": {
        "id": "NS7u8CeLwjhO",
        "colab": {
          "base_uri": "https://localhost:8080/"
        },
        "outputId": "127647b1-b24d-4cfb-baea-d7e0b9f680fb"
      },
      "outputs": [
        {
          "output_type": "stream",
          "name": "stdout",
          "text": [
            "Collecting xlsxwriter\n",
            "  Downloading XlsxWriter-3.2.0-py3-none-any.whl (159 kB)\n",
            "\u001b[2K     \u001b[90m━━━━━━━━━━━━━━━━━━━━━━━━━━━━━━━━━━━━━━━━\u001b[0m \u001b[32m159.9/159.9 kB\u001b[0m \u001b[31m1.8 MB/s\u001b[0m eta \u001b[36m0:00:00\u001b[0m\n",
            "\u001b[?25hInstalling collected packages: xlsxwriter\n",
            "Successfully installed xlsxwriter-3.2.0\n"
          ]
        }
      ],
      "source": [
        "import pandas as pd\n",
        "import numpy as np\n",
        "import plotly.express as px\n",
        "import datetime\n",
        "!pip install xlsxwriter\n",
        "import xlsxwriter"
      ]
    },
    {
      "cell_type": "code",
      "source": [
        "import os\n",
        "os.getcwd()\n",
        "os.getcwdb()\n",
        "dir = os.listdir()\n",
        "archive = False #True/False toggles archive feature. Can archive input files\n",
        "for item in dir:\n",
        "  if archive:\n",
        "    if item not in archive.listdir():\n",
        "      #copy item to /archive\n",
        "      #do this before renaming the files\n",
        "      #only copy if item isn't already there\n",
        "      print('item not in archive')\n",
        "\n",
        "  if 'catalog' in item:\n",
        "    #toggle-able archiving\n",
        "    #copy item with original name to archive\n",
        "    catalog = pd.read_excel(item)\n",
        "    print('Catalog: ' + item)\n",
        "  elif 'items' in item:\n",
        "    weekly = pd.read_csv(item)\n",
        "    print('\\nWeekly: '+ item)\n",
        "  elif 'Inventory' in item:\n",
        "    sellthru = pd.read_excel(item)\n",
        "    print('\\nsellthru: ' + item)\n"
      ],
      "metadata": {
        "colab": {
          "base_uri": "https://localhost:8080/"
        },
        "id": "rEyvt6hACXpK",
        "outputId": "93af5a99-d081-4f9b-b105-c8717ef4befa"
      },
      "execution_count": null,
      "outputs": [
        {
          "output_type": "stream",
          "name": "stderr",
          "text": [
            "/usr/local/lib/python3.10/dist-packages/openpyxl/worksheet/_reader.py:329: UserWarning: Data Validation extension is not supported and will be removed\n",
            "  warn(msg)\n"
          ]
        },
        {
          "output_type": "stream",
          "name": "stdout",
          "text": [
            "Catalog: catalog-2024-04-13 2_58 pm.xlsx\n",
            "\n",
            "Weekly: items-2024-04-09-2024-04-13.csv\n"
          ]
        },
        {
          "output_type": "stream",
          "name": "stderr",
          "text": [
            "/usr/local/lib/python3.10/dist-packages/openpyxl/styles/stylesheet.py:226: UserWarning: Workbook contains no default style, apply openpyxl's default\n",
            "  warn(\"Workbook contains no default style, apply openpyxl's default\")\n"
          ]
        },
        {
          "output_type": "stream",
          "name": "stdout",
          "text": [
            "\n",
            "sellthru: Inventory-sell-through-report-04-12-2024.xlsx\n"
          ]
        }
      ]
    },
    {
      "cell_type": "markdown",
      "source": [
        "fix catalog's first row being blank / column names not being where they belong"
      ],
      "metadata": {
        "id": "uyRdYYTBGZct"
      }
    },
    {
      "cell_type": "code",
      "source": [
        "#data cleaning - update catagory columns to have the same capitalization\n",
        "#possibly we can write this out bu changing .category to .Category elsewhere\n",
        "catalog.rename(columns = {'Category':'category'}, inplace = True)\n",
        "weekly.rename(columns = {'Category':'category'}, inplace = True)\n",
        "#data cleaning - dropping rows with duplicate GTIN\n",
        "catalog.drop_duplicates(subset='GTIN', inplace=True)\n",
        "weekly.drop_duplicates(subset='GTIN', inplace=True)"
      ],
      "metadata": {
        "id": "q8Fn_o6yFtFo"
      },
      "execution_count": null,
      "outputs": []
    },
    {
      "cell_type": "code",
      "source": [
        "#data cleaning - category dictionary for clean_categories\n",
        "#NewCategory : ['These Categories ', 'Are Combined ', 'In NewCategory]\n",
        "#this is used to clean categories for Reverie Books\n",
        "cat_dict = {\n",
        "    'Children': ['Children', 'Children - Board', 'Children - GN', 'Children - LGBTQ', 'Children - Nonfiction', 'Childrens'],\n",
        "    'Cooking': ['Cooking',  'Cooking - Spirits'],\n",
        "    'Creative': ['Creative - Art', 'Creative - Writing'],\n",
        "    'Fantasy': ['Fantasy', 'Fantasy - LGBTQ'],\n",
        "    'Fiction': ['Fiction', 'Fiction - Asian', 'Fiction - Black', 'Fiction - Hispanic', 'Fiction - Historical', 'Fiction - Indigenous', 'Fiction - LGBTQ', 'Fiction - Literary', 'Fiction - ShortStories', 'Fiction - Western', 'Ficton', 'Indigenous - Fiction', 'LGBTQ - Fiction'],\n",
        "    'GN': ['GN', 'GN - LGBTQ', 'GN - YA'],\n",
        "    'History': ['History', 'History - Black', 'History - Immigration', 'History - LGBTQ', 'History - Native', 'History - Women', 'LGBTQ - History'],\n",
        "    'Holiday': ['Holiday - Children - Easter', 'Holiday - Children - Halloween', 'Holiday - Children - Jewish', 'Holiday - Christmas', 'Holiday - Christmas - Children', 'Holiday - Christmas - LGBTQ', 'Holiday - Christmas - Romance', 'Holiday - Halloween - Children', 'Holiday - Hannukah', 'Holiday - Hanukkah - Children', 'Holiday - Kwanzaa - Children', 'Holiday - Spanish', 'Holiday - Thanksgiving'],\n",
        "    'LGBT': ['LGBTQ', 'LGBTQ - Horror', 'LGBTQ - Memoir', 'LGBTQ - Nonfiction', 'LGBTQ - Trans'],\n",
        "    'Memoir': ['Memoir', 'Memoir - Essays', 'Memoir - LGBTQ', 'Memoir - Music', 'Memoir - Pets', 'Memoir - Travel'],\n",
        "    'MiddleReader': ['MiddleReader', 'MiddleReader - Fantasy', 'MiddleReader - GN', 'MiddleReader - LGBTQ', 'MiddleReader - Nonfiction', 'MiddlerReader - GN'],\n",
        "    'Nonfiction': ['Nonfiction', 'Nonfiction - Abortion', 'Nonfiction - Black', 'Nonfiction - Crime', 'Nonfiction - Cultural', 'Nonfiction - Feminist', 'Nonfiction - Hispanic', 'Nonfiction - Immigration', 'Nonfiction - Jewish', 'Nonfiction - LGBTQ', 'Nonfiction - Native', 'Nonfiction - Police', 'Nonfiction - Politics', 'Nonfiction - Pop Culture', 'Nonfiction - SJ', 'Nonfiction - War', 'Romantasy'],\n",
        "    'Parenting': ['Parenting', 'Parenting - LGBTQ', 'Parenting - Pregnancy', 'Parenting - SexEd'],\n",
        "    'Poetry': ['Poetry', 'Poetry - LGBTQ', 'Poetry - Literary Journal'],\n",
        "    'Regional': ['Regional', 'Regional - Fiction', 'Regional - Nonfiction'],\n",
        "    'Romance': ['Romance', 'Romance - LGBTQ', 'Romance - LGBTQ - Gay', 'Romance - LGBTQ - Lesbian', 'Romance - LGBTQ - Queer', 'Romance - LGTBQ - Lesbian', 'Romance - Straight'],\n",
        "    'Science': ['Science', 'Science - Anthropology', 'Science - climate', 'Science - Conservation', 'Science - Creativity', 'Science - Environment', 'Science - Evolution', 'Science - Nature', 'Science - Racism'],\n",
        "    'SciFi': ['SciFi', 'SciFi - AfroFuturism', 'SciFi - Anthology', 'SciFi - BiPoc', 'SciFi - Classics', 'SciFi - Fantasy', 'SciFi - LGBTQ', 'SciFi - PostApocalyptic'],\n",
        "    'SelfHelp': ['SelfHelp', 'SelfHelp - Addiction', 'SelfHelp - Astrology', 'SelfHelp - Black', 'SelfHelp - Business', 'SelfHelp - Communication', 'SelfHelp - Divorce', 'SelfHelp - Grief', 'SelfHelp - Health', 'SelfHelp - LGBTQ', 'SelfHelp - Love', 'SelfHelp - Metaphysics', 'SelfHelp - SJ', 'SelfHelp - Spirituality', 'SelfHelp - Trauma'],\n",
        "    'SJ': ['SJ', 'SJ - Abortion', 'SJ - Black', 'SJ - Disability', 'SJ - Education', 'SJ - Feminism', 'SJ - Hispanic', 'SJ - History', 'SJ - Music', 'SJ - Native', 'SJ - Native - Nonfiction', 'SJ - Nonfiction', 'Social Justice', 'SocialJustice', 'SocialJustice - Feminism'],\n",
        "    'Spanish': ['Spanish', 'Spanish - Children', 'Spanish - Fiction', 'Spanish - MiddleReader', 'Spanish - SciFi', 'Spanish - YA'],\n",
        "    'Thriller': ['Thriller', 'Thriller - Horror', 'Thriller - Mystery', 'Thriller - Native', 'Mystery'],\n",
        "    'Travel': ['Travel', 'Travel - Essays', 'Travel - LGTBQ'],\n",
        "    'YA': ['YA', 'YA - Fantasy', 'YA - GN', 'YA - LGBTQ', 'YA - Nonfiction'],\n",
        "    'Sideline': ['Sideline', 'Sideline - ActivityBook', 'Sideline - ArtSupplies', 'Sideline - Bookmarks', 'Sideline - Calendar', 'Sideline - Calendars', 'Sideline - Cards', 'Sideline - Creative', 'Sideline - DnD', 'Sideline - Edible', 'Sideline - Flag', 'Sideline - Games', 'Sideline - GiftBags', 'Sideline - Journals', 'Sideline - Lights', 'Sideline - Origami', 'Sideline - PensPencils', 'Sideline - Planner', 'Sideline - Puzzle', 'Sideline - Sketchbook', 'Sideline - Sketchbooks', 'Sideline - Stickers', 'Sideline - Tarot', 'Sideline - Tote', 'Sideline - Toys', 'Sideline - WrappingPaper', 'Sidelines', 'Sidelines - Tarot']\n",
        "}"
      ],
      "metadata": {
        "id": "4Jw9OpyC_I1Z"
      },
      "execution_count": null,
      "outputs": []
    },
    {
      "cell_type": "code",
      "source": [
        "#data cleaning - takes a dataframe and optional categories dictionary\n",
        "#default categories dictionary is cat_dict\n",
        "def clean_categories(df, categories=cat_dict):\n",
        "  for x in df.index:\n",
        "    for key, value in categories.items():\n",
        "      if df.loc[x, 'category'] in value:\n",
        "        df.loc[x, 'category'] = key\n",
        "      #else:\n",
        "        #df.loc[x, 'category'] = 'Other'\n"
      ],
      "metadata": {
        "id": "uNQzIgq6enSC"
      },
      "execution_count": null,
      "outputs": []
    },
    {
      "cell_type": "code",
      "source": [
        "#data cleaning - making smaller dataframes with only the columns we need\n",
        "clean_categories(catalog)\n",
        "clean_categories(weekly)\n",
        "catalog_pruned = catalog[['Item Name', 'category', 'Price', 'Default Unit Cost', 'Current Quantity Reverie Books', 'Default Vendor Name', 'Variation Name', 'SKU', 'GTIN']]\n",
        "weekly_pruned = weekly[['Item', 'Count', 'Price Point Name', 'SKU', 'GTIN']]\n",
        "sellthru_pruned = sellthru[['GTIN', 'Last received', 'Last sold', 'On hand', 'On order', 'SKU']]\n",
        "pruned_c_w = weekly_pruned.join(catalog_pruned.set_index('GTIN'), on='GTIN', lsuffix='_catalog', rsuffix='_weekly')\n",
        "master_prune = pruned_c_w.join(sellthru_pruned.set_index('GTIN'), on='GTIN')\n",
        "master_prune.dropna(axis=0, subset='GTIN', inplace=True)\n",
        "#creates the master_sold df which shows the items that sold in weekly\n",
        "master_sold = master_prune[master_prune['Count'] > 0]\n",
        "master_sold = master_sold.assign(cogs=master_sold['Count'] * master_sold['Default Unit Cost'])\n",
        "output_df = master_sold[['SKU', 'Item Name', 'Price', 'Default Unit Cost', 'category', 'Default Vendor Name', 'Variation Name', 'Last sold', 'Last received', 'On hand', 'On order']]\n",
        "delta = output_df['Last sold'] - output_df['Last received']\n",
        "output_df = output_df.assign(days_on_shelf=(delta).dt.days)"
      ],
      "metadata": {
        "id": "d6yqzCubhamz"
      },
      "execution_count": null,
      "outputs": []
    },
    {
      "cell_type": "code",
      "source": [
        "# output_df = master_sold[['SKU', 'Item Name', 'Price', 'Default Unit Cost', 'category', 'Default Vendor Name', 'Variation Name', 'Last sold', 'Last received', 'On hand']]\n",
        "# delta = output_df['Last sold'] - output_df['Last received']\n",
        "# output_df = output_df.assign(days_on_shelf=(delta).dt.days)\n",
        "writer = pd.ExcelWriter('output_formatted.xlsx', engine='xlsxwriter')\n",
        "days_on_shelf = f'M2:M{output_df.shape[0]+1}' #to condition the whole days on shelf column\n",
        "on_order = f'L2:L{output_df.shape[0]+1}'\n",
        "output_df.to_excel(writer, sheet_name='Sheet1')\n",
        "wb  = writer.book\n",
        "worksheet = writer.sheets['Sheet1']\n",
        "red = wb.add_format({'bg_color': 'red'})\n",
        "green = wb.add_format({'bg_color': '77f963'})\n",
        "worksheet.conditional_format(days_on_shelf, {'type':     'cell',\n",
        "                                        'criteria': '>=',\n",
        "                                        'value':    180,\n",
        "                                        'format':   red})\n",
        "worksheet.conditional_format(days_on_shelf, {'type':     'cell',\n",
        "                                        'criteria': '<=',\n",
        "                                        'value':    30,\n",
        "                                        'format':   green})\n",
        "worksheet.conditional_format(on_order, {'type':     'cell',\n",
        "                                        'criteria': '>',\n",
        "                                        'value':    0,\n",
        "                                        'format':   red})\n",
        "wb.close()"
      ],
      "metadata": {
        "id": "Ma3sOD6ncver"
      },
      "execution_count": null,
      "outputs": []
    },
    {
      "cell_type": "code",
      "source": [
        "#Run Before here"
      ],
      "metadata": {
        "id": "V4-tdd3mn403"
      },
      "execution_count": null,
      "outputs": []
    },
    {
      "cell_type": "markdown",
      "source": [
        "Cells below this point are development and aren't critical to functionality"
      ],
      "metadata": {
        "id": "kG6YJ8l6lx5A"
      }
    }
  ]
}